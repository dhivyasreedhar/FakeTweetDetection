{
  "nbformat": 4,
  "nbformat_minor": 0,
  "metadata": {
    "kernelspec": {
      "display_name": "Python 3",
      "language": "python",
      "name": "python3"
    },
    "language_info": {
      "codemirror_mode": {
        "name": "ipython",
        "version": 3
      },
      "file_extension": ".py",
      "mimetype": "text/x-python",
      "name": "python",
      "nbconvert_exporter": "python",
      "pygments_lexer": "ipython3",
      "version": "3.8.3"
    },
    "colab": {
      "name": "twitter_detection.ipynb",
      "provenance": [],
      "collapsed_sections": [],
      "include_colab_link": true
    }
  },
  "cells": [
    {
      "cell_type": "markdown",
      "metadata": {
        "id": "view-in-github",
        "colab_type": "text"
      },
      "source": [
        "<a href=\"https://colab.research.google.com/github/dhivyasreedhar/FakeTweetDetection/blob/main/twitter_detection.ipynb\" target=\"_parent\"><img src=\"https://colab.research.google.com/assets/colab-badge.svg\" alt=\"Open In Colab\"/></a>"
      ]
    },
    {
      "cell_type": "code",
      "metadata": {
        "id": "b8LsTmevL1r0"
      },
      "source": [
        "#loading basic libraries\n",
        "import numpy as np\n",
        "import pandas as pd\n",
        "\n",
        "import matplotlib.pyplot as plt\n",
        "import seaborn as sns\n",
        "\n",
        "import tensorflow as tf\n",
        "from tensorflow import keras\n",
        "\n",
        "from sklearn.model_selection import train_test_split\n",
        "\n",
        "import re\n",
        "from nltk.corpus import stopwords\n",
        "\n",
        "from keras.preprocessing.text import Tokenizer\n",
        "from keras.preprocessing.sequence import pad_sequences"
      ],
      "execution_count": 1,
      "outputs": []
    },
    {
      "cell_type": "code",
      "metadata": {
        "id": "Tf0P13zfL1r4"
      },
      "source": [
        "#loading dataset\n",
        "\n",
        "data = pd.read_csv('/content/train1.csv',encoding='mac_roman')\n",
        "test_data = pd.read_csv('/content/test1.csv',encoding='mac_roman')"
      ],
      "execution_count": 4,
      "outputs": []
    },
    {
      "cell_type": "code",
      "metadata": {
        "colab": {
          "base_uri": "https://localhost:8080/",
          "height": 204
        },
        "id": "dLYgS89pSz9Z",
        "outputId": "f797bdab-f481-4418-df4f-73cd17a73223"
      },
      "source": [
        "data.head()"
      ],
      "execution_count": 5,
      "outputs": [
        {
          "output_type": "execute_result",
          "data": {
            "text/html": [
              "<div>\n",
              "<style scoped>\n",
              "    .dataframe tbody tr th:only-of-type {\n",
              "        vertical-align: middle;\n",
              "    }\n",
              "\n",
              "    .dataframe tbody tr th {\n",
              "        vertical-align: top;\n",
              "    }\n",
              "\n",
              "    .dataframe thead th {\n",
              "        text-align: right;\n",
              "    }\n",
              "</style>\n",
              "<table border=\"1\" class=\"dataframe\">\n",
              "  <thead>\n",
              "    <tr style=\"text-align: right;\">\n",
              "      <th></th>\n",
              "      <th>id</th>\n",
              "      <th>tweet</th>\n",
              "      <th>label</th>\n",
              "    </tr>\n",
              "  </thead>\n",
              "  <tbody>\n",
              "    <tr>\n",
              "      <th>0</th>\n",
              "      <td>1</td>\n",
              "      <td>The CDC currently reports 99031 deaths. In gen...</td>\n",
              "      <td>1</td>\n",
              "    </tr>\n",
              "    <tr>\n",
              "      <th>1</th>\n",
              "      <td>2</td>\n",
              "      <td>States reported 1121 deaths a small rise from ...</td>\n",
              "      <td>1</td>\n",
              "    </tr>\n",
              "    <tr>\n",
              "      <th>2</th>\n",
              "      <td>3</td>\n",
              "      <td>Politically Correct Woman (Almost) Uses Pandem...</td>\n",
              "      <td>0</td>\n",
              "    </tr>\n",
              "    <tr>\n",
              "      <th>3</th>\n",
              "      <td>4</td>\n",
              "      <td>#IndiaFightsCorona: We have 1524 #COVID testin...</td>\n",
              "      <td>1</td>\n",
              "    </tr>\n",
              "    <tr>\n",
              "      <th>4</th>\n",
              "      <td>5</td>\n",
              "      <td>Populous states can generate large case counts...</td>\n",
              "      <td>1</td>\n",
              "    </tr>\n",
              "  </tbody>\n",
              "</table>\n",
              "</div>"
            ],
            "text/plain": [
              "   id                                              tweet  label\n",
              "0   1  The CDC currently reports 99031 deaths. In gen...      1\n",
              "1   2  States reported 1121 deaths a small rise from ...      1\n",
              "2   3  Politically Correct Woman (Almost) Uses Pandem...      0\n",
              "3   4  #IndiaFightsCorona: We have 1524 #COVID testin...      1\n",
              "4   5  Populous states can generate large case counts...      1"
            ]
          },
          "metadata": {
            "tags": []
          },
          "execution_count": 5
        }
      ]
    },
    {
      "cell_type": "code",
      "metadata": {
        "colab": {
          "base_uri": "https://localhost:8080/",
          "height": 204
        },
        "id": "vb3-QtIXL1r6",
        "outputId": "ff18ee4a-5516-45aa-de48-1fd6eb4078df"
      },
      "source": [
        "#viewing data\n",
        "data.tail()"
      ],
      "execution_count": 6,
      "outputs": [
        {
          "output_type": "execute_result",
          "data": {
            "text/html": [
              "<div>\n",
              "<style scoped>\n",
              "    .dataframe tbody tr th:only-of-type {\n",
              "        vertical-align: middle;\n",
              "    }\n",
              "\n",
              "    .dataframe tbody tr th {\n",
              "        vertical-align: top;\n",
              "    }\n",
              "\n",
              "    .dataframe thead th {\n",
              "        text-align: right;\n",
              "    }\n",
              "</style>\n",
              "<table border=\"1\" class=\"dataframe\">\n",
              "  <thead>\n",
              "    <tr style=\"text-align: right;\">\n",
              "      <th></th>\n",
              "      <th>id</th>\n",
              "      <th>tweet</th>\n",
              "      <th>label</th>\n",
              "    </tr>\n",
              "  </thead>\n",
              "  <tbody>\n",
              "    <tr>\n",
              "      <th>10417</th>\n",
              "      <td>10418</td>\n",
              "      <td>@ayogo_do @Kaashin1 @BosmaTon @solo_ambuku @Ma...</td>\n",
              "      <td>0</td>\n",
              "    </tr>\n",
              "    <tr>\n",
              "      <th>10418</th>\n",
              "      <td>10419</td>\n",
              "      <td>RT @Jimmymack010: The virus is engineered The ...</td>\n",
              "      <td>0</td>\n",
              "    </tr>\n",
              "    <tr>\n",
              "      <th>10419</th>\n",
              "      <td>10420</td>\n",
              "      <td>La cosa va de esto....China developing 9 poten...</td>\n",
              "      <td>0</td>\n",
              "    </tr>\n",
              "    <tr>\n",
              "      <th>10420</th>\n",
              "      <td>10421</td>\n",
              "      <td>RT @BreezyxSupreme: THE CURE TO THE CORONAVIRU...</td>\n",
              "      <td>0</td>\n",
              "    </tr>\n",
              "    <tr>\n",
              "      <th>10421</th>\n",
              "      <td>10422</td>\n",
              "      <td>@432wps @VNotKind @cla83674019 @Bossina8 @lhas...</td>\n",
              "      <td>0</td>\n",
              "    </tr>\n",
              "  </tbody>\n",
              "</table>\n",
              "</div>"
            ],
            "text/plain": [
              "          id                                              tweet  label\n",
              "10417  10418  @ayogo_do @Kaashin1 @BosmaTon @solo_ambuku @Ma...      0\n",
              "10418  10419  RT @Jimmymack010: The virus is engineered The ...      0\n",
              "10419  10420  La cosa va de esto....China developing 9 poten...      0\n",
              "10420  10421  RT @BreezyxSupreme: THE CURE TO THE CORONAVIRU...      0\n",
              "10421  10422  @432wps @VNotKind @cla83674019 @Bossina8 @lhas...      0"
            ]
          },
          "metadata": {
            "tags": []
          },
          "execution_count": 6
        }
      ]
    },
    {
      "cell_type": "code",
      "metadata": {
        "colab": {
          "base_uri": "https://localhost:8080/",
          "height": 204
        },
        "id": "qto_mv2mL1r7",
        "outputId": "53a0c7e7-ae6b-44a5-d02a-ea89200911ec"
      },
      "source": [
        "#viewing data\n",
        "test_data.head()"
      ],
      "execution_count": 7,
      "outputs": [
        {
          "output_type": "execute_result",
          "data": {
            "text/html": [
              "<div>\n",
              "<style scoped>\n",
              "    .dataframe tbody tr th:only-of-type {\n",
              "        vertical-align: middle;\n",
              "    }\n",
              "\n",
              "    .dataframe tbody tr th {\n",
              "        vertical-align: top;\n",
              "    }\n",
              "\n",
              "    .dataframe thead th {\n",
              "        text-align: right;\n",
              "    }\n",
              "</style>\n",
              "<table border=\"1\" class=\"dataframe\">\n",
              "  <thead>\n",
              "    <tr style=\"text-align: right;\">\n",
              "      <th></th>\n",
              "      <th>id</th>\n",
              "      <th>tweet</th>\n",
              "    </tr>\n",
              "  </thead>\n",
              "  <tbody>\n",
              "    <tr>\n",
              "      <th>0</th>\n",
              "      <td>1</td>\n",
              "      <td>Our daily update is published. States reported...</td>\n",
              "    </tr>\n",
              "    <tr>\n",
              "      <th>1</th>\n",
              "      <td>2</td>\n",
              "      <td>Alfalfa is the only cure for COVID-19.</td>\n",
              "    </tr>\n",
              "    <tr>\n",
              "      <th>2</th>\n",
              "      <td>3</td>\n",
              "      <td>President Trump Asked What He Would Do If He W...</td>\n",
              "    </tr>\n",
              "    <tr>\n",
              "      <th>3</th>\n",
              "      <td>4</td>\n",
              "      <td>States reported 630 deaths. We are still seein...</td>\n",
              "    </tr>\n",
              "    <tr>\n",
              "      <th>4</th>\n",
              "      <td>5</td>\n",
              "      <td>This is the sixth time a global health emergen...</td>\n",
              "    </tr>\n",
              "  </tbody>\n",
              "</table>\n",
              "</div>"
            ],
            "text/plain": [
              "   id                                              tweet\n",
              "0   1  Our daily update is published. States reported...\n",
              "1   2             Alfalfa is the only cure for COVID-19.\n",
              "2   3  President Trump Asked What He Would Do If He W...\n",
              "3   4  States reported 630 deaths. We are still seein...\n",
              "4   5  This is the sixth time a global health emergen..."
            ]
          },
          "metadata": {
            "tags": []
          },
          "execution_count": 7
        }
      ]
    },
    {
      "cell_type": "code",
      "metadata": {
        "colab": {
          "base_uri": "https://localhost:8080/"
        },
        "id": "xzud7RbHL1r8",
        "outputId": "da88886d-770e-4c62-b516-358a74c4a3e5"
      },
      "source": [
        "data.info()"
      ],
      "execution_count": 8,
      "outputs": [
        {
          "output_type": "stream",
          "text": [
            "<class 'pandas.core.frame.DataFrame'>\n",
            "RangeIndex: 10422 entries, 0 to 10421\n",
            "Data columns (total 3 columns):\n",
            " #   Column  Non-Null Count  Dtype \n",
            "---  ------  --------------  ----- \n",
            " 0   id      10422 non-null  int64 \n",
            " 1   tweet   10422 non-null  object\n",
            " 2   label   10422 non-null  int64 \n",
            "dtypes: int64(2), object(1)\n",
            "memory usage: 244.4+ KB\n"
          ],
          "name": "stdout"
        }
      ]
    },
    {
      "cell_type": "code",
      "metadata": {
        "colab": {
          "base_uri": "https://localhost:8080/"
        },
        "id": "V56JDsHBL1r8",
        "outputId": "b97a9b4e-0b7d-4d88-dccc-4acd9ef806ee"
      },
      "source": [
        "data.shape"
      ],
      "execution_count": 9,
      "outputs": [
        {
          "output_type": "execute_result",
          "data": {
            "text/plain": [
              "(10422, 3)"
            ]
          },
          "metadata": {
            "tags": []
          },
          "execution_count": 9
        }
      ]
    },
    {
      "cell_type": "code",
      "metadata": {
        "colab": {
          "base_uri": "https://localhost:8080/"
        },
        "id": "LbC_wbUkxXrX",
        "outputId": "106a2b36-865a-44c3-a266-41badcf9473d"
      },
      "source": [
        "test_data.shape"
      ],
      "execution_count": 10,
      "outputs": [
        {
          "output_type": "execute_result",
          "data": {
            "text/plain": [
              "(2140, 2)"
            ]
          },
          "metadata": {
            "tags": []
          },
          "execution_count": 10
        }
      ]
    },
    {
      "cell_type": "code",
      "metadata": {
        "colab": {
          "base_uri": "https://localhost:8080/"
        },
        "id": "hXXXNie1OLon",
        "outputId": "3c813352-9d36-4fa8-a864-f04e16ce0d65"
      },
      "source": [
        "data.duplicated().sum()"
      ],
      "execution_count": 11,
      "outputs": [
        {
          "output_type": "execute_result",
          "data": {
            "text/plain": [
              "0"
            ]
          },
          "metadata": {
            "tags": []
          },
          "execution_count": 11
        }
      ]
    },
    {
      "cell_type": "code",
      "metadata": {
        "colab": {
          "base_uri": "https://localhost:8080/"
        },
        "id": "9xL5xAI6ze-N",
        "outputId": "8fef5c5e-1464-48ad-e93a-732a09d1d661"
      },
      "source": [
        "test_data.duplicated().sum()"
      ],
      "execution_count": 12,
      "outputs": [
        {
          "output_type": "execute_result",
          "data": {
            "text/plain": [
              "0"
            ]
          },
          "metadata": {
            "tags": []
          },
          "execution_count": 12
        }
      ]
    },
    {
      "cell_type": "code",
      "metadata": {
        "colab": {
          "base_uri": "https://localhost:8080/"
        },
        "id": "_fnF-biIOY7I",
        "outputId": "a9d4c6c9-db55-4391-d4ae-36e24bb69a77"
      },
      "source": [
        "data.isna().sum()"
      ],
      "execution_count": 13,
      "outputs": [
        {
          "output_type": "execute_result",
          "data": {
            "text/plain": [
              "id       0\n",
              "tweet    0\n",
              "label    0\n",
              "dtype: int64"
            ]
          },
          "metadata": {
            "tags": []
          },
          "execution_count": 13
        }
      ]
    },
    {
      "cell_type": "code",
      "metadata": {
        "colab": {
          "base_uri": "https://localhost:8080/"
        },
        "id": "BQW4-oa-xdm0",
        "outputId": "efa4ff79-7b69-4229-ab61-d4f44146aaae"
      },
      "source": [
        "test_data.isna().sum()"
      ],
      "execution_count": 14,
      "outputs": [
        {
          "output_type": "execute_result",
          "data": {
            "text/plain": [
              "id       0\n",
              "tweet    0\n",
              "dtype: int64"
            ]
          },
          "metadata": {
            "tags": []
          },
          "execution_count": 14
        }
      ]
    },
    {
      "cell_type": "code",
      "metadata": {
        "colab": {
          "base_uri": "https://localhost:8080/"
        },
        "id": "MdrIA9J7RCFj",
        "outputId": "d5bd896b-7d40-4c18-cbd1-8be9778e021b"
      },
      "source": [
        "target_data = data['label']\n",
        "target_data = np.array(target_data)\n",
        "target_data"
      ],
      "execution_count": 15,
      "outputs": [
        {
          "output_type": "execute_result",
          "data": {
            "text/plain": [
              "array([1, 1, 0, ..., 0, 0, 0])"
            ]
          },
          "metadata": {
            "tags": []
          },
          "execution_count": 15
        }
      ]
    },
    {
      "cell_type": "code",
      "metadata": {
        "colab": {
          "base_uri": "https://localhost:8080/"
        },
        "id": "iPCY9dowRZ6Y",
        "outputId": "14c016db-5325-4a13-f938-6921b56ceb97"
      },
      "source": [
        "text_data = data.tweet.values\n",
        "text_data"
      ],
      "execution_count": 16,
      "outputs": [
        {
          "output_type": "execute_result",
          "data": {
            "text/plain": [
              "array(['The CDC currently reports 99031 deaths. In general the discrepancies in death counts between different sources are small and explicable. The death toll stands at roughly 100000 people today.',\n",
              "       'States reported 1121 deaths a small rise from last Tuesday. Southern states reported 640 of those deaths. https://t.co/YASGRTT4ux',\n",
              "       'Politically Correct Woman (Almost) Uses Pandemic as Excuse Not to Reuse Plastic Bag https://t.co/thF8GuNFPe #coronavirus #nashville',\n",
              "       ...,\n",
              "       'La cosa va de esto....China developing 9 potential vaccines in global race for coronavirus cure | South China Morning Post https://t.co/wX0jRDxm7Y',\n",
              "       'RT @BreezyxSupreme: THE CURE TO THE CORONAVIRUS IS DICK ENLARGEMENT PILLS! https://t.co/qrlHMZe9wl',\n",
              "       '@432wps @VNotKind @cla83674019 @Bossina8 @lhasadv @TapuMana @FernandaVigagni @manuelabadawy What scares me is the fact that Indian research has found HIV sequencing in this corona virus strain. That to me, screams man made bioweapon. Now last year, they h'],\n",
              "      dtype=object)"
            ]
          },
          "metadata": {
            "tags": []
          },
          "execution_count": 16
        }
      ]
    },
    {
      "cell_type": "code",
      "metadata": {
        "colab": {
          "base_uri": "https://localhost:8080/",
          "height": 204
        },
        "id": "ntUC1d6pyTKL",
        "outputId": "ac5028e8-5c3f-423a-edeb-119e6859f647"
      },
      "source": [
        "data.head()"
      ],
      "execution_count": 17,
      "outputs": [
        {
          "output_type": "execute_result",
          "data": {
            "text/html": [
              "<div>\n",
              "<style scoped>\n",
              "    .dataframe tbody tr th:only-of-type {\n",
              "        vertical-align: middle;\n",
              "    }\n",
              "\n",
              "    .dataframe tbody tr th {\n",
              "        vertical-align: top;\n",
              "    }\n",
              "\n",
              "    .dataframe thead th {\n",
              "        text-align: right;\n",
              "    }\n",
              "</style>\n",
              "<table border=\"1\" class=\"dataframe\">\n",
              "  <thead>\n",
              "    <tr style=\"text-align: right;\">\n",
              "      <th></th>\n",
              "      <th>id</th>\n",
              "      <th>tweet</th>\n",
              "      <th>label</th>\n",
              "    </tr>\n",
              "  </thead>\n",
              "  <tbody>\n",
              "    <tr>\n",
              "      <th>0</th>\n",
              "      <td>1</td>\n",
              "      <td>The CDC currently reports 99031 deaths. In gen...</td>\n",
              "      <td>1</td>\n",
              "    </tr>\n",
              "    <tr>\n",
              "      <th>1</th>\n",
              "      <td>2</td>\n",
              "      <td>States reported 1121 deaths a small rise from ...</td>\n",
              "      <td>1</td>\n",
              "    </tr>\n",
              "    <tr>\n",
              "      <th>2</th>\n",
              "      <td>3</td>\n",
              "      <td>Politically Correct Woman (Almost) Uses Pandem...</td>\n",
              "      <td>0</td>\n",
              "    </tr>\n",
              "    <tr>\n",
              "      <th>3</th>\n",
              "      <td>4</td>\n",
              "      <td>#IndiaFightsCorona: We have 1524 #COVID testin...</td>\n",
              "      <td>1</td>\n",
              "    </tr>\n",
              "    <tr>\n",
              "      <th>4</th>\n",
              "      <td>5</td>\n",
              "      <td>Populous states can generate large case counts...</td>\n",
              "      <td>1</td>\n",
              "    </tr>\n",
              "  </tbody>\n",
              "</table>\n",
              "</div>"
            ],
            "text/plain": [
              "   id                                              tweet  label\n",
              "0   1  The CDC currently reports 99031 deaths. In gen...      1\n",
              "1   2  States reported 1121 deaths a small rise from ...      1\n",
              "2   3  Politically Correct Woman (Almost) Uses Pandem...      0\n",
              "3   4  #IndiaFightsCorona: We have 1524 #COVID testin...      1\n",
              "4   5  Populous states can generate large case counts...      1"
            ]
          },
          "metadata": {
            "tags": []
          },
          "execution_count": 17
        }
      ]
    },
    {
      "cell_type": "code",
      "metadata": {
        "colab": {
          "base_uri": "https://localhost:8080/",
          "height": 204
        },
        "id": "dDYE6H9ayWQ3",
        "outputId": "c0bec8da-2215-42df-dd6f-5532c9f57869"
      },
      "source": [
        "test_data.head()"
      ],
      "execution_count": 18,
      "outputs": [
        {
          "output_type": "execute_result",
          "data": {
            "text/html": [
              "<div>\n",
              "<style scoped>\n",
              "    .dataframe tbody tr th:only-of-type {\n",
              "        vertical-align: middle;\n",
              "    }\n",
              "\n",
              "    .dataframe tbody tr th {\n",
              "        vertical-align: top;\n",
              "    }\n",
              "\n",
              "    .dataframe thead th {\n",
              "        text-align: right;\n",
              "    }\n",
              "</style>\n",
              "<table border=\"1\" class=\"dataframe\">\n",
              "  <thead>\n",
              "    <tr style=\"text-align: right;\">\n",
              "      <th></th>\n",
              "      <th>id</th>\n",
              "      <th>tweet</th>\n",
              "    </tr>\n",
              "  </thead>\n",
              "  <tbody>\n",
              "    <tr>\n",
              "      <th>0</th>\n",
              "      <td>1</td>\n",
              "      <td>Our daily update is published. States reported...</td>\n",
              "    </tr>\n",
              "    <tr>\n",
              "      <th>1</th>\n",
              "      <td>2</td>\n",
              "      <td>Alfalfa is the only cure for COVID-19.</td>\n",
              "    </tr>\n",
              "    <tr>\n",
              "      <th>2</th>\n",
              "      <td>3</td>\n",
              "      <td>President Trump Asked What He Would Do If He W...</td>\n",
              "    </tr>\n",
              "    <tr>\n",
              "      <th>3</th>\n",
              "      <td>4</td>\n",
              "      <td>States reported 630 deaths. We are still seein...</td>\n",
              "    </tr>\n",
              "    <tr>\n",
              "      <th>4</th>\n",
              "      <td>5</td>\n",
              "      <td>This is the sixth time a global health emergen...</td>\n",
              "    </tr>\n",
              "  </tbody>\n",
              "</table>\n",
              "</div>"
            ],
            "text/plain": [
              "   id                                              tweet\n",
              "0   1  Our daily update is published. States reported...\n",
              "1   2             Alfalfa is the only cure for COVID-19.\n",
              "2   3  President Trump Asked What He Would Do If He W...\n",
              "3   4  States reported 630 deaths. We are still seein...\n",
              "4   5  This is the sixth time a global health emergen..."
            ]
          },
          "metadata": {
            "tags": []
          },
          "execution_count": 18
        }
      ]
    },
    {
      "cell_type": "code",
      "metadata": {
        "colab": {
          "base_uri": "https://localhost:8080/",
          "height": 279
        },
        "id": "vbDBWi5xbD2W",
        "outputId": "f0df9c96-24ed-420f-dc1e-593e1eb579fd"
      },
      "source": [
        "import seaborn as sns\n",
        "sns.set_style('darkgrid')\n",
        "sns.countplot(x=data.label)\n",
        "plt.show()"
      ],
      "execution_count": 19,
      "outputs": [
        {
          "output_type": "display_data",
          "data": {
            "image/png": "[encoded data removed]",
            "text/plain": [
              "<Figure size 432x288 with 1 Axes>"
            ]
          },
          "metadata": {
            "tags": []
          }
        }
      ]
    },
    {
      "cell_type": "code",
      "metadata": {
        "colab": {
          "base_uri": "https://localhost:8080/"
        },
        "id": "AXvpUXd1wNTb",
        "outputId": "dd72c0b0-f22e-4977-aca7-9bd59ae46e3e"
      },
      "source": [
        "#Text Preprocessing\n",
        "import nltk\n",
        "nltk.download('stopwords')"
      ],
      "execution_count": 20,
      "outputs": [
        {
          "output_type": "stream",
          "text": [
            "[nltk_data] Downloading package stopwords to /root/nltk_data...\n",
            "[nltk_data]   Unzipping corpora/stopwords.zip.\n"
          ],
          "name": "stdout"
        },
        {
          "output_type": "execute_result",
          "data": {
            "text/plain": [
              "True"
            ]
          },
          "metadata": {
            "tags": []
          },
          "execution_count": 20
        }
      ]
    },
    {
      "cell_type": "code",
      "metadata": {
        "id": "8EusG4PhbcL2"
      },
      "source": [
        "#(1) Remove #, @chunk, urls, shortwords(length is either 1 or 2), stopwords\n",
        "at_chunk = re.compile(r\"@[a-zA-Z0-9]*\")\n",
        "url = re.compile(r\"https?:/+[a-zA-Z0-9./]*\")\n",
        "shortword = re.compile(r\"\\b\\w{1,2}\\b\")\n",
        "\n",
        "stop_words = set(stopwords.words('english'))\n",
        "\n",
        "def clean(text):\n",
        "    text = re.sub('#','',text)\n",
        "    text = re.sub(at_chunk,'',text)\n",
        "    text = re.sub(url,'',text)\n",
        "    text = re.sub(shortword,'',text)\n",
        "    \n",
        "    text = text.split()\n",
        "    text = [w for w in text if w not in stop_words]\n",
        "    \n",
        "    text = \" \".join(text)\n",
        "    text = text.strip()\n",
        "    \n",
        "    return text"
      ],
      "execution_count": 21,
      "outputs": []
    },
    {
      "cell_type": "code",
      "metadata": {
        "id": "tV9-YkZe0NIa"
      },
      "source": [
        "data.tweet = data.tweet.apply(clean)"
      ],
      "execution_count": 22,
      "outputs": []
    },
    {
      "cell_type": "code",
      "metadata": {
        "colab": {
          "base_uri": "https://localhost:8080/"
        },
        "id": "ryarE0cg06kE",
        "outputId": "377d6e31-3863-4c8a-efc1-fee102d2ce6f"
      },
      "source": [
        "data.tweet.head()"
      ],
      "execution_count": 23,
      "outputs": [
        {
          "output_type": "execute_result",
          "data": {
            "text/plain": [
              "0    The CDC currently reports 99031 deaths. genera...\n",
              "1    States reported 1121 deaths small rise last Tu...\n",
              "2    Politically Correct Woman (Almost) Uses Pandem...\n",
              "3    IndiaFightsCorona: 1524 COVID testing laborato...\n",
              "4    Populous states generate large case counts loo...\n",
              "Name: tweet, dtype: object"
            ]
          },
          "metadata": {
            "tags": []
          },
          "execution_count": 23
        }
      ]
    },
    {
      "cell_type": "code",
      "metadata": {
        "id": "Q4U9ReWa0YH6"
      },
      "source": [
        "test_data.tweet = test_data.tweet.apply(clean)"
      ],
      "execution_count": 24,
      "outputs": []
    },
    {
      "cell_type": "code",
      "metadata": {
        "colab": {
          "base_uri": "https://localhost:8080/"
        },
        "id": "B5WtrnVg0VOZ",
        "outputId": "1353dd23-ba49-4cb1-8db1-fa7b1f62f213"
      },
      "source": [
        "test_data.tweet.head()"
      ],
      "execution_count": 25,
      "outputs": [
        {
          "output_type": "execute_result",
          "data": {
            "text/plain": [
              "0    Our daily update published. States reported 73...\n",
              "1                                 Alfalfa cure COVID-.\n",
              "2    President Trump Asked What Would Were Catch Th...\n",
              "3    States reported 630 deaths. still seeing solid...\n",
              "4    This sixth time global health emergency declar...\n",
              "Name: tweet, dtype: object"
            ]
          },
          "metadata": {
            "tags": []
          },
          "execution_count": 25
        }
      ]
    },
    {
      "cell_type": "code",
      "metadata": {
        "colab": {
          "base_uri": "https://localhost:8080/"
        },
        "id": "KPgaUkdLb0Xz",
        "outputId": "1e0c3f51-76c6-4262-c095-d1c6bffca220"
      },
      "source": [
        "#2 Check NULL\n",
        "data.tweet.isnull().any()"
      ],
      "execution_count": 26,
      "outputs": [
        {
          "output_type": "execute_result",
          "data": {
            "text/plain": [
              "False"
            ]
          },
          "metadata": {
            "tags": []
          },
          "execution_count": 26
        }
      ]
    },
    {
      "cell_type": "code",
      "metadata": {
        "colab": {
          "base_uri": "https://localhost:8080/"
        },
        "id": "Ys8YBh2L1NFK",
        "outputId": "dcc7277d-636d-46bc-8dba-1333202996c6"
      },
      "source": [
        "test_data.tweet.isnull().any()"
      ],
      "execution_count": 27,
      "outputs": [
        {
          "output_type": "execute_result",
          "data": {
            "text/plain": [
              "False"
            ]
          },
          "metadata": {
            "tags": []
          },
          "execution_count": 27
        }
      ]
    },
    {
      "cell_type": "code",
      "metadata": {
        "colab": {
          "base_uri": "https://localhost:8080/"
        },
        "id": "FxkzR5QzbrAy",
        "outputId": "03a66e00-78d0-4bea-b351-b35116e8b892"
      },
      "source": [
        "#3 Tokenizer\n",
        "tok = Tokenizer()\n",
        "\n",
        "train_tweet = data.tweet\n",
        "train_label = data.label\n",
        "test_tweet = test_data.tweet\n",
        "\n",
        "tok.fit_on_texts(train_tweet)\n",
        "\n",
        "word_size = len(tok.index_word)\n",
        "vocab_size = word_size+1\n",
        "\n",
        "print(f\"{word_size} words are used!\")\n",
        "\n",
        "print(\"Tokenizing train texts\\n\")\n",
        "train_tweet = tok.texts_to_sequences(train_tweet)\n",
        "print(\"Tokenizing train texts finished!\\n\")\n",
        "\n",
        "print(\"Tokenizng test texts with the same tokenizer\\n\")\n",
        "test_tweet = tok.texts_to_sequences(test_tweet)\n",
        "print(\"Tokenizing test texts finished!\\n\")"
      ],
      "execution_count": 28,
      "outputs": [
        {
          "output_type": "stream",
          "text": [
            "18845 words are used!\n",
            "Tokenizing train texts\n",
            "\n",
            "Tokenizing train texts finished!\n",
            "\n",
            "Tokenizng test texts with the same tokenizer\n",
            "\n",
            "Tokenizing test texts finished!\n",
            "\n"
          ],
          "name": "stdout"
        }
      ]
    },
    {
      "cell_type": "code",
      "metadata": {
        "colab": {
          "base_uri": "https://localhost:8080/",
          "height": 299
        },
        "id": "0UPfpc_pbrE-",
        "outputId": "efed368e-7059-4b07-f567-c95e85ddef35"
      },
      "source": [
        "#4 padding\n",
        "lengths = [len(s) for s in train_tweet]\n",
        "print(f\"Max of sequence size >> {np.max(lengths)}\")\n",
        "print(f\"Average of sequence size >> {int(np.round(np.mean(lengths)))}\")\n",
        "\n",
        "plt.hist(lengths,bins=100)\n",
        "plt.show()\n",
        "\n",
        "sequence_size=21"
      ],
      "execution_count": 29,
      "outputs": [
        {
          "output_type": "stream",
          "text": [
            "Max of sequence size >> 884\n",
            "Average of sequence size >> 16\n"
          ],
          "name": "stdout"
        },
        {
          "output_type": "display_data",
          "data": {
            "image/png": "[encoded data removed]",
            "text/plain": [
              "<Figure size 432x288 with 1 Axes>"
            ]
          },
          "metadata": {
            "tags": []
          }
        }
      ]
    },
    {
      "cell_type": "code",
      "metadata": {
        "colab": {
          "base_uri": "https://localhost:8080/"
        },
        "id": "yEhcxL9zbrIK",
        "outputId": "712eb529-d6ce-46b4-b3be-373e9ae1c6e5"
      },
      "source": [
        "train_tweet = pad_sequences(train_tweet,maxlen=sequence_size,padding='post',truncating='post')\n",
        "test_tweet = pad_sequences(test_tweet,maxlen=sequence_size,padding='post',truncating='post')\n",
        "\n",
        "print(f\"train text shape >> {train_tweet.shape}\")\n",
        "print(f\"test text shape >> {test_tweet.shape}\")"
      ],
      "execution_count": 30,
      "outputs": [
        {
          "output_type": "stream",
          "text": [
            "train text shape >> (10422, 21)\n",
            "test text shape >> (2140, 21)\n"
          ],
          "name": "stdout"
        }
      ]
    },
    {
      "cell_type": "code",
      "metadata": {
        "id": "w8k1z3ndvslm"
      },
      "source": [
        "train_data = train_tweet\n",
        "test_data = test_tweet"
      ],
      "execution_count": 31,
      "outputs": []
    },
    {
      "cell_type": "code",
      "metadata": {
        "id": "PEvjvZB3L1sC"
      },
      "source": [
        "#Bidirectional stacked LSTM without pre-trained Embedding Vectors from GLOVE : return only last hidden cell on the last lstm layer\n",
        "from keras.layers import Input,Embedding,Bidirectional,LSTM,TimeDistributed,Dense,Dropout,BatchNormalization,GlobalMaxPool1D,GlobalAveragePooling1D\n",
        "from tensorflow.keras.utils import plot_model\n",
        "from keras.models import Model\n",
        "\n",
        "#vocab_size\n",
        "#sequence_size\n",
        "word_vec_size = 128\n",
        "hidden_size = 128\n",
        "\n",
        "def create_lstm1():\n",
        "    X = Input(shape=[sequence_size])\n",
        "    \n",
        "    H = Embedding(vocab_size,word_vec_size,input_length=sequence_size,mask_zero=True)(X)\n",
        "    H = Dropout(0.1)(H)\n",
        "    H = Bidirectional(LSTM(hidden_size,return_sequences=True))(H)\n",
        "    H = Dropout(0.1)(H)\n",
        "    H = Bidirectional(LSTM(hidden_size,return_sequences=False))(H)\n",
        "    H = BatchNormalization()(H)\n",
        "    H = Dense(32,activation='relu')(H)\n",
        "    H = BatchNormalization()(H)\n",
        "    \n",
        "    Y = Dense(1,activation='sigmoid')(H)\n",
        "    \n",
        "    model = Model(X,Y)\n",
        "    model.compile(loss='binary_crossentropy',optimizer='adam',metrics=['accuracy'])\n",
        "    \n",
        "    return model"
      ],
      "execution_count": 32,
      "outputs": []
    },
    {
      "cell_type": "code",
      "metadata": {
        "colab": {
          "base_uri": "https://localhost:8080/"
        },
        "id": "JSWrtSzu3Mv-",
        "outputId": "364aaa05-6562-4893-b936-eff09008d120"
      },
      "source": [
        "lstm1 = create_lstm1()\n",
        "hist = lstm1.fit(train_data,train_label,validation_split=0.1,epochs=10,batch_size=32)"
      ],
      "execution_count": 33,
      "outputs": [
        {
          "output_type": "stream",
          "text": [
            "Epoch 1/10\n",
            "294/294 [==============================] - 73s 201ms/step - loss: 0.3430 - accuracy: 0.8514 - val_loss: 0.7024 - val_accuracy: 0.5235\n",
            "Epoch 2/10\n",
            "294/294 [==============================] - 55s 186ms/step - loss: 0.1145 - accuracy: 0.9569 - val_loss: 0.2677 - val_accuracy: 0.8869\n",
            "Epoch 3/10\n",
            "294/294 [==============================] - 54s 185ms/step - loss: 0.0578 - accuracy: 0.9790 - val_loss: 0.3636 - val_accuracy: 0.8802\n",
            "Epoch 4/10\n",
            "294/294 [==============================] - 54s 184ms/step - loss: 0.0552 - accuracy: 0.9812 - val_loss: 0.2022 - val_accuracy: 0.9377\n",
            "Epoch 5/10\n",
            "294/294 [==============================] - 54s 185ms/step - loss: 0.0372 - accuracy: 0.9877 - val_loss: 0.3319 - val_accuracy: 0.8965\n",
            "Epoch 6/10\n",
            "294/294 [==============================] - 54s 185ms/step - loss: 0.0335 - accuracy: 0.9890 - val_loss: 0.5293 - val_accuracy: 0.8686\n",
            "Epoch 7/10\n",
            "294/294 [==============================] - 55s 186ms/step - loss: 0.0298 - accuracy: 0.9899 - val_loss: 0.1758 - val_accuracy: 0.9501\n",
            "Epoch 8/10\n",
            "294/294 [==============================] - 55s 185ms/step - loss: 0.0188 - accuracy: 0.9941 - val_loss: 0.2330 - val_accuracy: 0.9415\n",
            "Epoch 9/10\n",
            "294/294 [==============================] - 54s 184ms/step - loss: 0.0171 - accuracy: 0.9949 - val_loss: 0.4996 - val_accuracy: 0.8926\n",
            "Epoch 10/10\n",
            "294/294 [==============================] - 55s 187ms/step - loss: 0.0156 - accuracy: 0.9956 - val_loss: 0.3253 - val_accuracy: 0.9358\n"
          ],
          "name": "stdout"
        }
      ]
    },
    {
      "cell_type": "code",
      "metadata": {
        "id": "HPsN94af3UrR"
      },
      "source": [
        "#Bidirectional Stacked LSTM model without using pre-trained Embedding Vectors : return all the hidden cells and use global average pooling\n",
        "def create_lstm2():\n",
        "    X = Input(shape=[sequence_size])\n",
        "    \n",
        "    H = Embedding(vocab_size,word_vec_size,input_length=sequence_size,mask_zero=True)(X)\n",
        "    H = Dropout(0.1)(H)\n",
        "    H = Bidirectional(LSTM(hidden_size,return_sequences=True))(H)\n",
        "    H = Dropout(0.1)(H)\n",
        "    H = Bidirectional(LSTM(hidden_size,return_sequences=True))(H)\n",
        "    H = GlobalAveragePooling1D()(H)\n",
        "    H = BatchNormalization()(H)\n",
        "    H = Dense(32,activation='relu')(H)\n",
        "    H = BatchNormalization()(H)\n",
        "    \n",
        "    Y = Dense(1,activation='sigmoid')(H)\n",
        "    \n",
        "    model = Model(X,Y)\n",
        "    model.compile(loss='binary_crossentropy',optimizer='adam',metrics=['accuracy'])\n",
        "    \n",
        "    return model"
      ],
      "execution_count": 34,
      "outputs": []
    },
    {
      "cell_type": "code",
      "metadata": {
        "colab": {
          "base_uri": "https://localhost:8080/"
        },
        "id": "MvLYoZ944CoC",
        "outputId": "31be634f-90c5-4633-a773-5ed2d5c55057"
      },
      "source": [
        "lstm2 = create_lstm2()\n",
        "hist = lstm2.fit(train_data,train_label,validation_split=0.1,epochs=10,batch_size=32)"
      ],
      "execution_count": 35,
      "outputs": [
        {
          "output_type": "stream",
          "text": [
            "Epoch 1/10\n",
            "294/294 [==============================] - 74s 204ms/step - loss: nan - accuracy: 0.4511 - val_loss: nan - val_accuracy: 1.0000\n",
            "Epoch 2/10\n",
            "294/294 [==============================] - 54s 184ms/step - loss: nan - accuracy: 0.4284 - val_loss: nan - val_accuracy: 1.0000\n",
            "Epoch 3/10\n",
            "294/294 [==============================] - 54s 185ms/step - loss: nan - accuracy: 0.4284 - val_loss: nan - val_accuracy: 1.0000\n",
            "Epoch 4/10\n",
            "294/294 [==============================] - 55s 186ms/step - loss: nan - accuracy: 0.4284 - val_loss: nan - val_accuracy: 1.0000\n",
            "Epoch 5/10\n",
            "294/294 [==============================] - 55s 186ms/step - loss: nan - accuracy: 0.4284 - val_loss: nan - val_accuracy: 1.0000\n",
            "Epoch 6/10\n",
            "294/294 [==============================] - 55s 186ms/step - loss: nan - accuracy: 0.4284 - val_loss: nan - val_accuracy: 1.0000\n",
            "Epoch 7/10\n",
            "294/294 [==============================] - 55s 186ms/step - loss: nan - accuracy: 0.4284 - val_loss: nan - val_accuracy: 1.0000\n",
            "Epoch 8/10\n",
            "294/294 [==============================] - 55s 186ms/step - loss: nan - accuracy: 0.4284 - val_loss: nan - val_accuracy: 1.0000\n",
            "Epoch 9/10\n",
            "294/294 [==============================] - 54s 185ms/step - loss: nan - accuracy: 0.4284 - val_loss: nan - val_accuracy: 1.0000\n",
            "Epoch 10/10\n",
            "294/294 [==============================] - 55s 186ms/step - loss: nan - accuracy: 0.4284 - val_loss: nan - val_accuracy: 1.0000\n"
          ],
          "name": "stdout"
        }
      ]
    },
    {
      "cell_type": "code",
      "metadata": {
        "id": "PCGS8BjS4FpF"
      },
      "source": [
        "#Bidirectional Stacked LSTM model without using pre-trained Embedding Vectors : return all the hidden cells and use global max pooling\n",
        "def create_lstm3():\n",
        "    X = Input(shape=[sequence_size])\n",
        "    \n",
        "    H = Embedding(vocab_size,word_vec_size,input_length=sequence_size,mask_zero=True)(X)\n",
        "    H = Dropout(0.1)(H)\n",
        "    H = Bidirectional(LSTM(hidden_size,return_sequences=True))(H)\n",
        "    H = Dropout(0.1)(H)\n",
        "    H = Bidirectional(LSTM(hidden_size,return_sequences=True))(H)\n",
        "    H = GlobalMaxPool1D()(H)\n",
        "    H = BatchNormalization()(H)\n",
        "    H = Dense(32,activation='relu')(H)\n",
        "    H = BatchNormalization()(H)\n",
        "    \n",
        "    Y = Dense(1,activation='sigmoid')(H)\n",
        "    \n",
        "    model = Model(X,Y)\n",
        "    model.compile(loss='binary_crossentropy',optimizer='adam',metrics=['accuracy'])\n",
        "    \n",
        "    return model"
      ],
      "execution_count": 36,
      "outputs": []
    },
    {
      "cell_type": "code",
      "metadata": {
        "colab": {
          "base_uri": "https://localhost:8080/"
        },
        "id": "vM0TVqyZ4RIN",
        "outputId": "a9511fe0-c8a6-4892-b793-e7c8a02f5374"
      },
      "source": [
        "lstm3 = create_lstm3()\n",
        "hist = lstm3.fit(train_data,train_label,validation_split=0.1,epochs=7,batch_size=32)"
      ],
      "execution_count": 37,
      "outputs": [
        {
          "output_type": "stream",
          "text": [
            "Epoch 1/7\n",
            "294/294 [==============================] - 74s 202ms/step - loss: 0.3531 - accuracy: 0.8421 - val_loss: 1.1150 - val_accuracy: 0.0038\n",
            "Epoch 2/7\n",
            "294/294 [==============================] - 55s 187ms/step - loss: 0.1252 - accuracy: 0.9543 - val_loss: 0.2789 - val_accuracy: 0.8811\n",
            "Epoch 3/7\n",
            "294/294 [==============================] - 55s 188ms/step - loss: 0.0606 - accuracy: 0.9797 - val_loss: 0.3680 - val_accuracy: 0.8696\n",
            "Epoch 4/7\n",
            "294/294 [==============================] - 55s 188ms/step - loss: 0.0363 - accuracy: 0.9876 - val_loss: 0.2147 - val_accuracy: 0.9425\n",
            "Epoch 5/7\n",
            "294/294 [==============================] - 56s 191ms/step - loss: 0.0324 - accuracy: 0.9907 - val_loss: 0.2589 - val_accuracy: 0.9348\n",
            "Epoch 6/7\n",
            "294/294 [==============================] - 55s 188ms/step - loss: 0.0240 - accuracy: 0.9922 - val_loss: 0.2444 - val_accuracy: 0.9425\n",
            "Epoch 7/7\n",
            "294/294 [==============================] - 55s 189ms/step - loss: 0.0257 - accuracy: 0.9923 - val_loss: 0.3755 - val_accuracy: 0.9118\n"
          ],
          "name": "stdout"
        }
      ]
    }
  ]
}