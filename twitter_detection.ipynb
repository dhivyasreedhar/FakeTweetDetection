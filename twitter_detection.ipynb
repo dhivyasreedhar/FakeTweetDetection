{
  "nbformat": 4,
  "nbformat_minor": 0,
  "metadata": {
    "kernelspec": {
      "display_name": "Python 3",
      "language": "python",
      "name": "python3"
    },
    "language_info": {
      "codemirror_mode": {
        "name": "ipython",
        "version": 3
      },
      "file_extension": ".py",
      "mimetype": "text/x-python",
      "name": "python",
      "nbconvert_exporter": "python",
      "pygments_lexer": "ipython3",
      "version": "3.8.3"
    },
    "colab": {
      "name": "twitter_detection.ipynb",
      "provenance": [],
      "collapsed_sections": [],
      "include_colab_link": true
    }
  },
  "cells": [
    {
      "cell_type": "markdown",
      "metadata": {
        "id": "view-in-github",
        "colab_type": "text"
      },
      "source": [
        "<a href=\"https://colab.research.google.com/github/dhivyasreedhar/FakeTweetDetection/blob/main/twitter_detection.ipynb\" target=\"_parent\"><img src=\"https://colab.research.google.com/assets/colab-badge.svg\" alt=\"Open In Colab\"/></a>"
      ]
    },
    {
      "cell_type": "code",
      "metadata": {
        "id": "b8LsTmevL1r0"
      },
      "source": [
        "#loading basic libraries\n",
        "import numpy as np\n",
        "import pandas as pd\n",
        "\n",
        "import matplotlib.pyplot as plt\n",
        "import seaborn as sns\n",
        "\n",
        "import tensorflow as tf\n",
        "from tensorflow import keras\n",
        "\n",
        "from sklearn.model_selection import train_test_split\n",
        "\n",
        "import re\n",
        "from nltk.corpus import stopwords\n",
        "\n",
        "from keras.preprocessing.text import Tokenizer\n",
        "from keras.preprocessing.sequence import pad_sequences"
      ],
      "execution_count": 46,
      "outputs": []
    },
    {
      "cell_type": "code",
      "metadata": {
        "id": "Tf0P13zfL1r4"
      },
      "source": [
        "#loading dataset\n",
        "\n",
        "data = pd.read_csv('/content/train1.csv',encoding='mac_roman')\n",
        "test_data = pd.read_csv('/content/test1.csv',encoding='mac_roman')"
      ],
      "execution_count": 49,
      "outputs": []
    },
    {
      "cell_type": "code",
      "metadata": {
        "colab": {
          "base_uri": "https://localhost:8080/",
          "height": 204
        },
        "id": "dLYgS89pSz9Z",
        "outputId": "480af929-7b11-43a9-88fe-6d3bff5703b2"
      },
      "source": [
        "data.head()"
      ],
      "execution_count": 50,
      "outputs": [
        {
          "output_type": "execute_result",
          "data": {
            "text/html": [
              "<div>\n",
              "<style scoped>\n",
              "    .dataframe tbody tr th:only-of-type {\n",
              "        vertical-align: middle;\n",
              "    }\n",
              "\n",
              "    .dataframe tbody tr th {\n",
              "        vertical-align: top;\n",
              "    }\n",
              "\n",
              "    .dataframe thead th {\n",
              "        text-align: right;\n",
              "    }\n",
              "</style>\n",
              "<table border=\"1\" class=\"dataframe\">\n",
              "  <thead>\n",
              "    <tr style=\"text-align: right;\">\n",
              "      <th></th>\n",
              "      <th>id</th>\n",
              "      <th>tweet</th>\n",
              "      <th>label</th>\n",
              "    </tr>\n",
              "  </thead>\n",
              "  <tbody>\n",
              "    <tr>\n",
              "      <th>0</th>\n",
              "      <td>1</td>\n",
              "      <td>The CDC currently reports 99031 deaths. In gen...</td>\n",
              "      <td>1</td>\n",
              "    </tr>\n",
              "    <tr>\n",
              "      <th>1</th>\n",
              "      <td>2</td>\n",
              "      <td>States reported 1121 deaths a small rise from ...</td>\n",
              "      <td>1</td>\n",
              "    </tr>\n",
              "    <tr>\n",
              "      <th>2</th>\n",
              "      <td>3</td>\n",
              "      <td>Politically Correct Woman (Almost) Uses Pandem...</td>\n",
              "      <td>0</td>\n",
              "    </tr>\n",
              "    <tr>\n",
              "      <th>3</th>\n",
              "      <td>4</td>\n",
              "      <td>#IndiaFightsCorona: We have 1524 #COVID testin...</td>\n",
              "      <td>1</td>\n",
              "    </tr>\n",
              "    <tr>\n",
              "      <th>4</th>\n",
              "      <td>5</td>\n",
              "      <td>Populous states can generate large case counts...</td>\n",
              "      <td>1</td>\n",
              "    </tr>\n",
              "  </tbody>\n",
              "</table>\n",
              "</div>"
            ],
            "text/plain": [
              "   id                                              tweet  label\n",
              "0   1  The CDC currently reports 99031 deaths. In gen...      1\n",
              "1   2  States reported 1121 deaths a small rise from ...      1\n",
              "2   3  Politically Correct Woman (Almost) Uses Pandem...      0\n",
              "3   4  #IndiaFightsCorona: We have 1524 #COVID testin...      1\n",
              "4   5  Populous states can generate large case counts...      1"
            ]
          },
          "metadata": {
            "tags": []
          },
          "execution_count": 50
        }
      ]
    },
    {
      "cell_type": "code",
      "metadata": {
        "colab": {
          "base_uri": "https://localhost:8080/",
          "height": 204
        },
        "id": "vb3-QtIXL1r6",
        "outputId": "8bf1cc3b-9a64-4075-de36-5e496aad67ec"
      },
      "source": [
        "#viewing data\n",
        "data.tail()"
      ],
      "execution_count": 51,
      "outputs": [
        {
          "output_type": "execute_result",
          "data": {
            "text/html": [
              "<div>\n",
              "<style scoped>\n",
              "    .dataframe tbody tr th:only-of-type {\n",
              "        vertical-align: middle;\n",
              "    }\n",
              "\n",
              "    .dataframe tbody tr th {\n",
              "        vertical-align: top;\n",
              "    }\n",
              "\n",
              "    .dataframe thead th {\n",
              "        text-align: right;\n",
              "    }\n",
              "</style>\n",
              "<table border=\"1\" class=\"dataframe\">\n",
              "  <thead>\n",
              "    <tr style=\"text-align: right;\">\n",
              "      <th></th>\n",
              "      <th>id</th>\n",
              "      <th>tweet</th>\n",
              "      <th>label</th>\n",
              "    </tr>\n",
              "  </thead>\n",
              "  <tbody>\n",
              "    <tr>\n",
              "      <th>6415</th>\n",
              "      <td>6416</td>\n",
              "      <td>A tiger tested positive for COVID-19 please st...</td>\n",
              "      <td>0</td>\n",
              "    </tr>\n",
              "    <tr>\n",
              "      <th>6416</th>\n",
              "      <td>6417</td>\n",
              "      <td>???Autopsies prove that COVID-19 is??? a blood...</td>\n",
              "      <td>0</td>\n",
              "    </tr>\n",
              "    <tr>\n",
              "      <th>6417</th>\n",
              "      <td>6418</td>\n",
              "      <td>_A post claims a COVID-19 vaccine has already ...</td>\n",
              "      <td>0</td>\n",
              "    </tr>\n",
              "    <tr>\n",
              "      <th>6418</th>\n",
              "      <td>6419</td>\n",
              "      <td>Aamir Khan Donate 250 Cr. In PM Relief Cares Fund</td>\n",
              "      <td>0</td>\n",
              "    </tr>\n",
              "    <tr>\n",
              "      <th>6419</th>\n",
              "      <td>6420</td>\n",
              "      <td>It has been 93 days since the last case of COV...</td>\n",
              "      <td>1</td>\n",
              "    </tr>\n",
              "  </tbody>\n",
              "</table>\n",
              "</div>"
            ],
            "text/plain": [
              "        id                                              tweet  label\n",
              "6415  6416  A tiger tested positive for COVID-19 please st...      0\n",
              "6416  6417  ???Autopsies prove that COVID-19 is??? a blood...      0\n",
              "6417  6418  _A post claims a COVID-19 vaccine has already ...      0\n",
              "6418  6419  Aamir Khan Donate 250 Cr. In PM Relief Cares Fund      0\n",
              "6419  6420  It has been 93 days since the last case of COV...      1"
            ]
          },
          "metadata": {
            "tags": []
          },
          "execution_count": 51
        }
      ]
    },
    {
      "cell_type": "code",
      "metadata": {
        "colab": {
          "base_uri": "https://localhost:8080/",
          "height": 204
        },
        "id": "qto_mv2mL1r7",
        "outputId": "ea18cb45-e746-46e5-f337-d617d76384ae"
      },
      "source": [
        "#viewing data\n",
        "test_data.head()"
      ],
      "execution_count": 52,
      "outputs": [
        {
          "output_type": "execute_result",
          "data": {
            "text/html": [
              "<div>\n",
              "<style scoped>\n",
              "    .dataframe tbody tr th:only-of-type {\n",
              "        vertical-align: middle;\n",
              "    }\n",
              "\n",
              "    .dataframe tbody tr th {\n",
              "        vertical-align: top;\n",
              "    }\n",
              "\n",
              "    .dataframe thead th {\n",
              "        text-align: right;\n",
              "    }\n",
              "</style>\n",
              "<table border=\"1\" class=\"dataframe\">\n",
              "  <thead>\n",
              "    <tr style=\"text-align: right;\">\n",
              "      <th></th>\n",
              "      <th>id</th>\n",
              "      <th>tweet</th>\n",
              "    </tr>\n",
              "  </thead>\n",
              "  <tbody>\n",
              "    <tr>\n",
              "      <th>0</th>\n",
              "      <td>1</td>\n",
              "      <td>Our daily update is published. States reported...</td>\n",
              "    </tr>\n",
              "    <tr>\n",
              "      <th>1</th>\n",
              "      <td>2</td>\n",
              "      <td>Alfalfa is the only cure for COVID-19.</td>\n",
              "    </tr>\n",
              "    <tr>\n",
              "      <th>2</th>\n",
              "      <td>3</td>\n",
              "      <td>President Trump Asked What He Would Do If He W...</td>\n",
              "    </tr>\n",
              "    <tr>\n",
              "      <th>3</th>\n",
              "      <td>4</td>\n",
              "      <td>States reported 630 deaths. We are still seein...</td>\n",
              "    </tr>\n",
              "    <tr>\n",
              "      <th>4</th>\n",
              "      <td>5</td>\n",
              "      <td>This is the sixth time a global health emergen...</td>\n",
              "    </tr>\n",
              "  </tbody>\n",
              "</table>\n",
              "</div>"
            ],
            "text/plain": [
              "   id                                              tweet\n",
              "0   1  Our daily update is published. States reported...\n",
              "1   2             Alfalfa is the only cure for COVID-19.\n",
              "2   3  President Trump Asked What He Would Do If He W...\n",
              "3   4  States reported 630 deaths. We are still seein...\n",
              "4   5  This is the sixth time a global health emergen..."
            ]
          },
          "metadata": {
            "tags": []
          },
          "execution_count": 52
        }
      ]
    },
    {
      "cell_type": "code",
      "metadata": {
        "colab": {
          "base_uri": "https://localhost:8080/"
        },
        "id": "xzud7RbHL1r8",
        "outputId": "7dd31c42-d38b-4bee-9c6f-98825d75494e"
      },
      "source": [
        "data.info()"
      ],
      "execution_count": 53,
      "outputs": [
        {
          "output_type": "stream",
          "text": [
            "<class 'pandas.core.frame.DataFrame'>\n",
            "RangeIndex: 6420 entries, 0 to 6419\n",
            "Data columns (total 3 columns):\n",
            " #   Column  Non-Null Count  Dtype \n",
            "---  ------  --------------  ----- \n",
            " 0   id      6420 non-null   int64 \n",
            " 1   tweet   6420 non-null   object\n",
            " 2   label   6420 non-null   int64 \n",
            "dtypes: int64(2), object(1)\n",
            "memory usage: 150.6+ KB\n"
          ],
          "name": "stdout"
        }
      ]
    },
    {
      "cell_type": "code",
      "metadata": {
        "colab": {
          "base_uri": "https://localhost:8080/"
        },
        "id": "V56JDsHBL1r8",
        "outputId": "54927029-609a-450c-bf3d-0d56aac655fb"
      },
      "source": [
        "data.shape"
      ],
      "execution_count": 54,
      "outputs": [
        {
          "output_type": "execute_result",
          "data": {
            "text/plain": [
              "(6420, 3)"
            ]
          },
          "metadata": {
            "tags": []
          },
          "execution_count": 54
        }
      ]
    },
    {
      "cell_type": "code",
      "metadata": {
        "colab": {
          "base_uri": "https://localhost:8080/"
        },
        "id": "LbC_wbUkxXrX",
        "outputId": "8e0921f3-e2bf-476a-b277-94f981e2fa5a"
      },
      "source": [
        "test_data.shape"
      ],
      "execution_count": 55,
      "outputs": [
        {
          "output_type": "execute_result",
          "data": {
            "text/plain": [
              "(2140, 2)"
            ]
          },
          "metadata": {
            "tags": []
          },
          "execution_count": 55
        }
      ]
    },
    {
      "cell_type": "code",
      "metadata": {
        "colab": {
          "base_uri": "https://localhost:8080/"
        },
        "id": "hXXXNie1OLon",
        "outputId": "79be912f-e103-433c-bb2d-7d1a675254ef"
      },
      "source": [
        "data.duplicated().sum()"
      ],
      "execution_count": 56,
      "outputs": [
        {
          "output_type": "execute_result",
          "data": {
            "text/plain": [
              "0"
            ]
          },
          "metadata": {
            "tags": []
          },
          "execution_count": 56
        }
      ]
    },
    {
      "cell_type": "code",
      "metadata": {
        "colab": {
          "base_uri": "https://localhost:8080/"
        },
        "id": "9xL5xAI6ze-N",
        "outputId": "f97be6e4-6530-48c4-a43e-1d0d0c1c695e"
      },
      "source": [
        "test_data.duplicated().sum()"
      ],
      "execution_count": 57,
      "outputs": [
        {
          "output_type": "execute_result",
          "data": {
            "text/plain": [
              "0"
            ]
          },
          "metadata": {
            "tags": []
          },
          "execution_count": 57
        }
      ]
    },
    {
      "cell_type": "code",
      "metadata": {
        "colab": {
          "base_uri": "https://localhost:8080/"
        },
        "id": "_fnF-biIOY7I",
        "outputId": "b37e1add-ebfe-4bcd-c0ec-d3b29fd37103"
      },
      "source": [
        "data.isna().sum()"
      ],
      "execution_count": 58,
      "outputs": [
        {
          "output_type": "execute_result",
          "data": {
            "text/plain": [
              "id       0\n",
              "tweet    0\n",
              "label    0\n",
              "dtype: int64"
            ]
          },
          "metadata": {
            "tags": []
          },
          "execution_count": 58
        }
      ]
    },
    {
      "cell_type": "code",
      "metadata": {
        "colab": {
          "base_uri": "https://localhost:8080/"
        },
        "id": "BQW4-oa-xdm0",
        "outputId": "fa2c7ad1-406b-4eec-b4b1-e6efcf554468"
      },
      "source": [
        "test_data.isna().sum()"
      ],
      "execution_count": 59,
      "outputs": [
        {
          "output_type": "execute_result",
          "data": {
            "text/plain": [
              "id       0\n",
              "tweet    0\n",
              "dtype: int64"
            ]
          },
          "metadata": {
            "tags": []
          },
          "execution_count": 59
        }
      ]
    },
    {
      "cell_type": "code",
      "metadata": {
        "colab": {
          "base_uri": "https://localhost:8080/"
        },
        "id": "MdrIA9J7RCFj",
        "outputId": "68434a62-9cf6-474d-f1d3-01e99f8872b0"
      },
      "source": [
        "target_data = data['label']\n",
        "target_data = np.array(target_data)\n",
        "target_data"
      ],
      "execution_count": 60,
      "outputs": [
        {
          "output_type": "execute_result",
          "data": {
            "text/plain": [
              "array([1, 1, 0, ..., 0, 0, 1])"
            ]
          },
          "metadata": {
            "tags": []
          },
          "execution_count": 60
        }
      ]
    },
    {
      "cell_type": "code",
      "metadata": {
        "colab": {
          "base_uri": "https://localhost:8080/"
        },
        "id": "iPCY9dowRZ6Y",
        "outputId": "e2ffbe4c-43a8-4e70-bee8-b33398b13e7a"
      },
      "source": [
        "text_data = data.tweet.values\n",
        "text_data"
      ],
      "execution_count": 61,
      "outputs": [
        {
          "output_type": "execute_result",
          "data": {
            "text/plain": [
              "array(['The CDC currently reports 99031 deaths. In general the discrepancies in death counts between different sources are small and explicable. The death toll stands at roughly 100000 people today.',\n",
              "       'States reported 1121 deaths a small rise from last Tuesday. Southern states reported 640 of those deaths. https://t.co/YASGRTT4ux',\n",
              "       'Politically Correct Woman (Almost) Uses Pandemic as Excuse Not to Reuse Plastic Bag https://t.co/thF8GuNFPe #coronavirus #nashville',\n",
              "       ...,\n",
              "       '_A post claims a COVID-19 vaccine has already been developed and will cause widespread infertility._',\n",
              "       'Aamir Khan Donate 250 Cr. In PM Relief Cares Fund',\n",
              "       'It has been 93 days since the last case of COVID-19 was acquired locally from an unknown source. The total number of active cases of COVID-19 in New Zealandís managed isolation and quarantine facilities is now 25.'],\n",
              "      dtype=object)"
            ]
          },
          "metadata": {
            "tags": []
          },
          "execution_count": 61
        }
      ]
    },
    {
      "cell_type": "code",
      "metadata": {
        "colab": {
          "base_uri": "https://localhost:8080/",
          "height": 204
        },
        "id": "ntUC1d6pyTKL",
        "outputId": "d0c590a2-70c4-4e29-bdbb-9f054679c4ca"
      },
      "source": [
        "data.head()"
      ],
      "execution_count": 62,
      "outputs": [
        {
          "output_type": "execute_result",
          "data": {
            "text/html": [
              "<div>\n",
              "<style scoped>\n",
              "    .dataframe tbody tr th:only-of-type {\n",
              "        vertical-align: middle;\n",
              "    }\n",
              "\n",
              "    .dataframe tbody tr th {\n",
              "        vertical-align: top;\n",
              "    }\n",
              "\n",
              "    .dataframe thead th {\n",
              "        text-align: right;\n",
              "    }\n",
              "</style>\n",
              "<table border=\"1\" class=\"dataframe\">\n",
              "  <thead>\n",
              "    <tr style=\"text-align: right;\">\n",
              "      <th></th>\n",
              "      <th>id</th>\n",
              "      <th>tweet</th>\n",
              "      <th>label</th>\n",
              "    </tr>\n",
              "  </thead>\n",
              "  <tbody>\n",
              "    <tr>\n",
              "      <th>0</th>\n",
              "      <td>1</td>\n",
              "      <td>The CDC currently reports 99031 deaths. In gen...</td>\n",
              "      <td>1</td>\n",
              "    </tr>\n",
              "    <tr>\n",
              "      <th>1</th>\n",
              "      <td>2</td>\n",
              "      <td>States reported 1121 deaths a small rise from ...</td>\n",
              "      <td>1</td>\n",
              "    </tr>\n",
              "    <tr>\n",
              "      <th>2</th>\n",
              "      <td>3</td>\n",
              "      <td>Politically Correct Woman (Almost) Uses Pandem...</td>\n",
              "      <td>0</td>\n",
              "    </tr>\n",
              "    <tr>\n",
              "      <th>3</th>\n",
              "      <td>4</td>\n",
              "      <td>#IndiaFightsCorona: We have 1524 #COVID testin...</td>\n",
              "      <td>1</td>\n",
              "    </tr>\n",
              "    <tr>\n",
              "      <th>4</th>\n",
              "      <td>5</td>\n",
              "      <td>Populous states can generate large case counts...</td>\n",
              "      <td>1</td>\n",
              "    </tr>\n",
              "  </tbody>\n",
              "</table>\n",
              "</div>"
            ],
            "text/plain": [
              "   id                                              tweet  label\n",
              "0   1  The CDC currently reports 99031 deaths. In gen...      1\n",
              "1   2  States reported 1121 deaths a small rise from ...      1\n",
              "2   3  Politically Correct Woman (Almost) Uses Pandem...      0\n",
              "3   4  #IndiaFightsCorona: We have 1524 #COVID testin...      1\n",
              "4   5  Populous states can generate large case counts...      1"
            ]
          },
          "metadata": {
            "tags": []
          },
          "execution_count": 62
        }
      ]
    },
    {
      "cell_type": "code",
      "metadata": {
        "colab": {
          "base_uri": "https://localhost:8080/",
          "height": 204
        },
        "id": "dDYE6H9ayWQ3",
        "outputId": "0e36059f-1f85-4cbc-b387-78536e603551"
      },
      "source": [
        "test_data.head()"
      ],
      "execution_count": 63,
      "outputs": [
        {
          "output_type": "execute_result",
          "data": {
            "text/html": [
              "<div>\n",
              "<style scoped>\n",
              "    .dataframe tbody tr th:only-of-type {\n",
              "        vertical-align: middle;\n",
              "    }\n",
              "\n",
              "    .dataframe tbody tr th {\n",
              "        vertical-align: top;\n",
              "    }\n",
              "\n",
              "    .dataframe thead th {\n",
              "        text-align: right;\n",
              "    }\n",
              "</style>\n",
              "<table border=\"1\" class=\"dataframe\">\n",
              "  <thead>\n",
              "    <tr style=\"text-align: right;\">\n",
              "      <th></th>\n",
              "      <th>id</th>\n",
              "      <th>tweet</th>\n",
              "    </tr>\n",
              "  </thead>\n",
              "  <tbody>\n",
              "    <tr>\n",
              "      <th>0</th>\n",
              "      <td>1</td>\n",
              "      <td>Our daily update is published. States reported...</td>\n",
              "    </tr>\n",
              "    <tr>\n",
              "      <th>1</th>\n",
              "      <td>2</td>\n",
              "      <td>Alfalfa is the only cure for COVID-19.</td>\n",
              "    </tr>\n",
              "    <tr>\n",
              "      <th>2</th>\n",
              "      <td>3</td>\n",
              "      <td>President Trump Asked What He Would Do If He W...</td>\n",
              "    </tr>\n",
              "    <tr>\n",
              "      <th>3</th>\n",
              "      <td>4</td>\n",
              "      <td>States reported 630 deaths. We are still seein...</td>\n",
              "    </tr>\n",
              "    <tr>\n",
              "      <th>4</th>\n",
              "      <td>5</td>\n",
              "      <td>This is the sixth time a global health emergen...</td>\n",
              "    </tr>\n",
              "  </tbody>\n",
              "</table>\n",
              "</div>"
            ],
            "text/plain": [
              "   id                                              tweet\n",
              "0   1  Our daily update is published. States reported...\n",
              "1   2             Alfalfa is the only cure for COVID-19.\n",
              "2   3  President Trump Asked What He Would Do If He W...\n",
              "3   4  States reported 630 deaths. We are still seein...\n",
              "4   5  This is the sixth time a global health emergen..."
            ]
          },
          "metadata": {
            "tags": []
          },
          "execution_count": 63
        }
      ]
    },
    {
      "cell_type": "code",
      "metadata": {
        "colab": {
          "base_uri": "https://localhost:8080/",
          "height": 282
        },
        "id": "vbDBWi5xbD2W",
        "outputId": "9d48d49e-f5b5-4949-f310-34bbe1f7c490"
      },
      "source": [
        "import seaborn as sns\n",
        "sns.set_style('darkgrid')\n",
        "sns.countplot(x=data.label)\n",
        "plt.show()"
      ],
      "execution_count": 64,
      "outputs": [
        {
          "output_type": "display_data",
          "data": {
            "image/png": "[encoded data removed]",
            "text/plain": [
              "<Figure size 432x288 with 1 Axes>"
            ]
          },
          "metadata": {
            "tags": []
          }
        }
      ]
    },
    {
      "cell_type": "code",
      "metadata": {
        "colab": {
          "base_uri": "https://localhost:8080/"
        },
        "id": "AXvpUXd1wNTb",
        "outputId": "9d85fc72-71fc-47a5-969e-6128b3abf364"
      },
      "source": [
        "#Text Preprocessing\n",
        "import nltk\n",
        "nltk.download('stopwords')"
      ],
      "execution_count": 65,
      "outputs": [
        {
          "output_type": "stream",
          "text": [
            "[nltk_data] Downloading package stopwords to /root/nltk_data...\n",
            "[nltk_data]   Package stopwords is already up-to-date!\n"
          ],
          "name": "stdout"
        },
        {
          "output_type": "execute_result",
          "data": {
            "text/plain": [
              "True"
            ]
          },
          "metadata": {
            "tags": []
          },
          "execution_count": 65
        }
      ]
    },
    {
      "cell_type": "code",
      "metadata": {
        "id": "8EusG4PhbcL2"
      },
      "source": [
        "#(1) Remove #, @chunk, urls, shortwords(length is either 1 or 2), stopwords\n",
        "at_chunk = re.compile(r\"@[a-zA-Z0-9]*\")\n",
        "url = re.compile(r\"https?:/+[a-zA-Z0-9./]*\")\n",
        "shortword = re.compile(r\"\\b\\w{1,2}\\b\")\n",
        "\n",
        "stop_words = set(stopwords.words('english'))\n",
        "\n",
        "def clean(text):\n",
        "    text = re.sub('#','',text)\n",
        "    text = re.sub(at_chunk,'',text)\n",
        "    text = re.sub(url,'',text)\n",
        "    text = re.sub(shortword,'',text)\n",
        "    \n",
        "    text = text.split()\n",
        "    text = [w for w in text if w not in stop_words]\n",
        "    \n",
        "    text = \" \".join(text)\n",
        "    text = text.strip()\n",
        "    \n",
        "    return text"
      ],
      "execution_count": 66,
      "outputs": []
    },
    {
      "cell_type": "code",
      "metadata": {
        "id": "tV9-YkZe0NIa"
      },
      "source": [
        "data.tweet = data.tweet.apply(clean)"
      ],
      "execution_count": 67,
      "outputs": []
    },
    {
      "cell_type": "code",
      "metadata": {
        "colab": {
          "base_uri": "https://localhost:8080/"
        },
        "id": "ryarE0cg06kE",
        "outputId": "5cbc0769-1ec8-40c5-b2ca-aab5f46ad234"
      },
      "source": [
        "data.tweet.head()"
      ],
      "execution_count": 68,
      "outputs": [
        {
          "output_type": "execute_result",
          "data": {
            "text/plain": [
              "0    The CDC currently reports 99031 deaths. genera...\n",
              "1    States reported 1121 deaths small rise last Tu...\n",
              "2    Politically Correct Woman (Almost) Uses Pandem...\n",
              "3    IndiaFightsCorona: 1524 COVID testing laborato...\n",
              "4    Populous states generate large case counts loo...\n",
              "Name: tweet, dtype: object"
            ]
          },
          "metadata": {
            "tags": []
          },
          "execution_count": 68
        }
      ]
    },
    {
      "cell_type": "code",
      "metadata": {
        "id": "Q4U9ReWa0YH6"
      },
      "source": [
        "test_data.tweet = test_data.tweet.apply(clean)"
      ],
      "execution_count": 69,
      "outputs": []
    },
    {
      "cell_type": "code",
      "metadata": {
        "colab": {
          "base_uri": "https://localhost:8080/"
        },
        "id": "B5WtrnVg0VOZ",
        "outputId": "c7bfdf92-e7a7-401c-c2c0-dddf25814487"
      },
      "source": [
        "test_data.tweet.head()"
      ],
      "execution_count": 70,
      "outputs": [
        {
          "output_type": "execute_result",
          "data": {
            "text/plain": [
              "0    Our daily update published. States reported 73...\n",
              "1                                 Alfalfa cure COVID-.\n",
              "2    President Trump Asked What Would Were Catch Th...\n",
              "3    States reported 630 deaths. still seeing solid...\n",
              "4    This sixth time global health emergency declar...\n",
              "Name: tweet, dtype: object"
            ]
          },
          "metadata": {
            "tags": []
          },
          "execution_count": 70
        }
      ]
    },
    {
      "cell_type": "code",
      "metadata": {
        "colab": {
          "base_uri": "https://localhost:8080/"
        },
        "id": "KPgaUkdLb0Xz",
        "outputId": "69781319-2d27-4120-c974-b86bc5f14aca"
      },
      "source": [
        "#2 Check NULL\n",
        "data.tweet.isnull().any()"
      ],
      "execution_count": 71,
      "outputs": [
        {
          "output_type": "execute_result",
          "data": {
            "text/plain": [
              "False"
            ]
          },
          "metadata": {
            "tags": []
          },
          "execution_count": 71
        }
      ]
    },
    {
      "cell_type": "code",
      "metadata": {
        "colab": {
          "base_uri": "https://localhost:8080/"
        },
        "id": "Ys8YBh2L1NFK",
        "outputId": "89559ca4-a481-49d8-a729-b99c74587116"
      },
      "source": [
        "test_data.tweet.isnull().any()"
      ],
      "execution_count": 72,
      "outputs": [
        {
          "output_type": "execute_result",
          "data": {
            "text/plain": [
              "False"
            ]
          },
          "metadata": {
            "tags": []
          },
          "execution_count": 72
        }
      ]
    },
    {
      "cell_type": "code",
      "metadata": {
        "colab": {
          "base_uri": "https://localhost:8080/"
        },
        "id": "FxkzR5QzbrAy",
        "outputId": "8e4e7610-d503-4515-99a0-fef8fef3c82a"
      },
      "source": [
        "#3 Tokenizer\n",
        "tok = Tokenizer()\n",
        "\n",
        "train_tweet = data.tweet\n",
        "train_label = data.label\n",
        "test_tweet = test_data.tweet\n",
        "\n",
        "tok.fit_on_texts(train_tweet)\n",
        "\n",
        "word_size = len(tok.index_word)\n",
        "vocab_size = word_size+1\n",
        "\n",
        "print(f\"{word_size} words are used!\")\n",
        "\n",
        "print(\"Tokenizing train texts\\n\")\n",
        "train_tweet = tok.texts_to_sequences(train_tweet)\n",
        "print(\"Tokenizing train texts finished!\\n\")\n",
        "\n",
        "print(\"Tokenizng test texts with the same tokenizer\\n\")\n",
        "test_tweet = tok.texts_to_sequences(test_tweet)\n",
        "print(\"Tokenizing test texts finished!\\n\")"
      ],
      "execution_count": 73,
      "outputs": [
        {
          "output_type": "stream",
          "text": [
            "14104 words are used!\n",
            "Tokenizing train texts\n",
            "\n",
            "Tokenizing train texts finished!\n",
            "\n",
            "Tokenizng test texts with the same tokenizer\n",
            "\n",
            "Tokenizing test texts finished!\n",
            "\n"
          ],
          "name": "stdout"
        }
      ]
    },
    {
      "cell_type": "code",
      "metadata": {
        "colab": {
          "base_uri": "https://localhost:8080/",
          "height": 300
        },
        "id": "0UPfpc_pbrE-",
        "outputId": "23fbd7f2-1f3b-416f-91f8-bb2e840b02e8"
      },
      "source": [
        "#4 padding\n",
        "lengths = [len(s) for s in train_tweet]\n",
        "print(f\"Max of sequence size >> {np.max(lengths)}\")\n",
        "print(f\"Average of sequence size >> {int(np.round(np.mean(lengths)))}\")\n",
        "\n",
        "plt.hist(lengths,bins=100)\n",
        "plt.show()\n",
        "\n",
        "sequence_size=21"
      ],
      "execution_count": 74,
      "outputs": [
        {
          "output_type": "stream",
          "text": [
            "Max of sequence size >> 884\n",
            "Average of sequence size >> 16\n"
          ],
          "name": "stdout"
        },
        {
          "output_type": "display_data",
          "data": {
            "image/png": "[encoded data removed]",
            "text/plain": [
              "<Figure size 432x288 with 1 Axes>"
            ]
          },
          "metadata": {
            "tags": []
          }
        }
      ]
    },
    {
      "cell_type": "code",
      "metadata": {
        "colab": {
          "base_uri": "https://localhost:8080/"
        },
        "id": "yEhcxL9zbrIK",
        "outputId": "f0654f81-91c8-4c8b-a9c3-3fdd5903ed37"
      },
      "source": [
        "train_tweet = pad_sequences(train_tweet,maxlen=sequence_size,padding='post',truncating='post')\n",
        "test_tweet = pad_sequences(test_tweet,maxlen=sequence_size,padding='post',truncating='post')\n",
        "\n",
        "print(f\"train text shape >> {train_tweet.shape}\")\n",
        "print(f\"test text shape >> {test_tweet.shape}\")"
      ],
      "execution_count": 75,
      "outputs": [
        {
          "output_type": "stream",
          "text": [
            "train text shape >> (6420, 21)\n",
            "test text shape >> (2140, 21)\n"
          ],
          "name": "stdout"
        }
      ]
    },
    {
      "cell_type": "code",
      "metadata": {
        "id": "w8k1z3ndvslm"
      },
      "source": [
        "train_data = train_tweet\n",
        "test_data = test_tweet"
      ],
      "execution_count": 76,
      "outputs": []
    },
    {
      "cell_type": "code",
      "metadata": {
        "id": "PEvjvZB3L1sC"
      },
      "source": [
        "#Bidirectional stacked LSTM without pre-trained Embedding Vectors from GLOVE : return only last hidden cell on the last lstm layer\n",
        "from keras.layers import Input,Embedding,Bidirectional,LSTM,TimeDistributed,Dense,Dropout,BatchNormalization,GlobalMaxPool1D,GlobalAveragePooling1D\n",
        "from tensorflow.keras.utils import plot_model\n",
        "from keras.models import Model\n",
        "\n",
        "#vocab_size\n",
        "#sequence_size\n",
        "word_vec_size = 128\n",
        "hidden_size = 128\n",
        "\n",
        "def create_lstm1():\n",
        "    X = Input(shape=[sequence_size])\n",
        "    \n",
        "    H = Embedding(vocab_size,word_vec_size,input_length=sequence_size,mask_zero=True)(X)\n",
        "    H = Dropout(0.1)(H)\n",
        "    H = Bidirectional(LSTM(hidden_size,return_sequences=True))(H)\n",
        "    H = Dropout(0.1)(H)\n",
        "    H = Bidirectional(LSTM(hidden_size,return_sequences=False))(H)\n",
        "    H = BatchNormalization()(H)\n",
        "    H = Dense(32,activation='relu')(H)\n",
        "    H = BatchNormalization()(H)\n",
        "    \n",
        "    Y = Dense(1,activation='sigmoid')(H)\n",
        "    \n",
        "    model = Model(X,Y)\n",
        "    model.compile(loss='binary_crossentropy',optimizer='adam',metrics=['accuracy'])\n",
        "    \n",
        "    return model"
      ],
      "execution_count": 77,
      "outputs": []
    },
    {
      "cell_type": "code",
      "metadata": {
        "colab": {
          "base_uri": "https://localhost:8080/"
        },
        "id": "JSWrtSzu3Mv-",
        "outputId": "da8dd219-5d40-4e37-c6b5-cecc837b4b65"
      },
      "source": [
        "lstm1 = create_lstm1()\n",
        "hist = lstm1.fit(train_data,train_label,validation_split=0.1,epochs=10,batch_size=32)"
      ],
      "execution_count": 78,
      "outputs": [
        {
          "output_type": "stream",
          "text": [
            "Epoch 1/10\n",
            "181/181 [==============================] - 53s 203ms/step - loss: 0.3966 - accuracy: 0.8251 - val_loss: 0.5442 - val_accuracy: 0.8879\n",
            "Epoch 2/10\n",
            "181/181 [==============================] - 32s 175ms/step - loss: 0.0966 - accuracy: 0.9702 - val_loss: 0.3695 - val_accuracy: 0.8707\n",
            "Epoch 3/10\n",
            "181/181 [==============================] - 32s 175ms/step - loss: 0.0400 - accuracy: 0.9883 - val_loss: 0.2650 - val_accuracy: 0.8972\n",
            "Epoch 4/10\n",
            "181/181 [==============================] - 32s 175ms/step - loss: 0.0438 - accuracy: 0.9851 - val_loss: 0.3522 - val_accuracy: 0.8894\n",
            "Epoch 5/10\n",
            "181/181 [==============================] - 32s 174ms/step - loss: 0.0304 - accuracy: 0.9899 - val_loss: 0.3406 - val_accuracy: 0.9097\n",
            "Epoch 6/10\n",
            "181/181 [==============================] - 31s 174ms/step - loss: 0.0216 - accuracy: 0.9925 - val_loss: 0.4362 - val_accuracy: 0.9050\n",
            "Epoch 7/10\n",
            "181/181 [==============================] - 31s 174ms/step - loss: 0.0097 - accuracy: 0.9959 - val_loss: 0.4347 - val_accuracy: 0.9034\n",
            "Epoch 8/10\n",
            "181/181 [==============================] - 31s 174ms/step - loss: 0.0125 - accuracy: 0.9968 - val_loss: 0.4605 - val_accuracy: 0.9143\n",
            "Epoch 9/10\n",
            "181/181 [==============================] - 31s 174ms/step - loss: 0.0161 - accuracy: 0.9955 - val_loss: 0.4154 - val_accuracy: 0.9050\n",
            "Epoch 10/10\n",
            "181/181 [==============================] - 31s 173ms/step - loss: 0.0225 - accuracy: 0.9934 - val_loss: 0.5128 - val_accuracy: 0.8988\n"
          ],
          "name": "stdout"
        }
      ]
    },
    {
      "cell_type": "code",
      "metadata": {
        "id": "HPsN94af3UrR"
      },
      "source": [
        "#Bidirectional Stacked LSTM model without using pre-trained Embedding Vectors : return all the hidden cells and use global average pooling\n",
        "def create_lstm2():\n",
        "    X = Input(shape=[sequence_size])\n",
        "    \n",
        "    H = Embedding(vocab_size,word_vec_size,input_length=sequence_size,mask_zero=True)(X)\n",
        "    H = Dropout(0.1)(H)\n",
        "    H = Bidirectional(LSTM(hidden_size,return_sequences=True))(H)\n",
        "    H = Dropout(0.1)(H)\n",
        "    H = Bidirectional(LSTM(hidden_size,return_sequences=True))(H)\n",
        "    H = GlobalAveragePooling1D()(H)\n",
        "    H = BatchNormalization()(H)\n",
        "    H = Dense(32,activation='relu')(H)\n",
        "    H = BatchNormalization()(H)\n",
        "    \n",
        "    Y = Dense(1,activation='sigmoid')(H)\n",
        "    \n",
        "    model = Model(X,Y)\n",
        "    model.compile(loss='binary_crossentropy',optimizer='adam',metrics=['accuracy'])\n",
        "    \n",
        "    return model"
      ],
      "execution_count": 79,
      "outputs": []
    },
    {
      "cell_type": "code",
      "metadata": {
        "colab": {
          "base_uri": "https://localhost:8080/"
        },
        "id": "MvLYoZ944CoC",
        "outputId": "0aaa0d1c-f1d7-4efd-e79e-811017e9bfa4"
      },
      "source": [
        "lstm2 = create_lstm2()\n",
        "hist = lstm2.fit(train_data,train_label,validation_split=0.1,epochs=10,batch_size=32)"
      ],
      "execution_count": 80,
      "outputs": [
        {
          "output_type": "stream",
          "text": [
            "Epoch 1/10\n",
            "181/181 [==============================] - 52s 203ms/step - loss: 0.3763 - accuracy: 0.8300 - val_loss: 0.5713 - val_accuracy: 0.6168\n",
            "Epoch 2/10\n",
            "181/181 [==============================] - 31s 172ms/step - loss: 0.0940 - accuracy: 0.9667 - val_loss: 0.3750 - val_accuracy: 0.8894\n",
            "Epoch 3/10\n",
            "181/181 [==============================] - 31s 172ms/step - loss: 0.0516 - accuracy: 0.9823 - val_loss: 0.2567 - val_accuracy: 0.8972\n",
            "Epoch 4/10\n",
            "181/181 [==============================] - 31s 171ms/step - loss: 0.0339 - accuracy: 0.9898 - val_loss: 0.3350 - val_accuracy: 0.9034\n",
            "Epoch 5/10\n",
            "181/181 [==============================] - 31s 171ms/step - loss: 0.0217 - accuracy: 0.9923 - val_loss: 0.4899 - val_accuracy: 0.8972\n",
            "Epoch 6/10\n",
            "181/181 [==============================] - 31s 171ms/step - loss: 0.0155 - accuracy: 0.9945 - val_loss: 0.4688 - val_accuracy: 0.9003\n",
            "Epoch 7/10\n",
            "181/181 [==============================] - 31s 172ms/step - loss: 0.0297 - accuracy: 0.9898 - val_loss: 0.5017 - val_accuracy: 0.8910\n",
            "Epoch 8/10\n",
            "181/181 [==============================] - 31s 171ms/step - loss: 0.0127 - accuracy: 0.9961 - val_loss: 0.5018 - val_accuracy: 0.8894\n",
            "Epoch 9/10\n",
            "181/181 [==============================] - 31s 171ms/step - loss: 0.0063 - accuracy: 0.9986 - val_loss: 0.5546 - val_accuracy: 0.8879\n",
            "Epoch 10/10\n",
            "181/181 [==============================] - 31s 172ms/step - loss: 0.0081 - accuracy: 0.9980 - val_loss: 0.6432 - val_accuracy: 0.8941\n"
          ],
          "name": "stdout"
        }
      ]
    },
    {
      "cell_type": "code",
      "metadata": {
        "id": "PCGS8BjS4FpF"
      },
      "source": [
        "#Bidirectional Stacked LSTM model without using pre-trained Embedding Vectors : return all the hidden cells and use global max pooling\n",
        "def create_lstm3():\n",
        "    X = Input(shape=[sequence_size])\n",
        "    \n",
        "    H = Embedding(vocab_size,word_vec_size,input_length=sequence_size,mask_zero=True)(X)\n",
        "    H = Dropout(0.1)(H)\n",
        "    H = Bidirectional(LSTM(hidden_size,return_sequences=True))(H)\n",
        "    H = Dropout(0.1)(H)\n",
        "    H = Bidirectional(LSTM(hidden_size,return_sequences=True))(H)\n",
        "    H = GlobalMaxPool1D()(H)\n",
        "    H = BatchNormalization()(H)\n",
        "    H = Dense(32,activation='relu')(H)\n",
        "    H = BatchNormalization()(H)\n",
        "    \n",
        "    Y = Dense(1,activation='sigmoid')(H)\n",
        "    \n",
        "    model = Model(X,Y)\n",
        "    model.compile(loss='binary_crossentropy',optimizer='adam',metrics=['accuracy'])\n",
        "    \n",
        "    return model"
      ],
      "execution_count": 81,
      "outputs": []
    },
    {
      "cell_type": "code",
      "metadata": {
        "colab": {
          "base_uri": "https://localhost:8080/"
        },
        "id": "vM0TVqyZ4RIN",
        "outputId": "e4ab6639-0fa7-4122-dbfa-4edbc806a1eb"
      },
      "source": [
        "lstm3 = create_lstm3()\n",
        "hist = lstm3.fit(train_data,train_label,validation_split=0.1,epochs=7,batch_size=32)"
      ],
      "execution_count": 82,
      "outputs": [
        {
          "output_type": "stream",
          "text": [
            "Epoch 1/7\n",
            "181/181 [==============================] - 52s 201ms/step - loss: 0.4156 - accuracy: 0.8045 - val_loss: 0.5758 - val_accuracy: 0.9143\n",
            "Epoch 2/7\n",
            "181/181 [==============================] - 31s 173ms/step - loss: 0.0880 - accuracy: 0.9697 - val_loss: 0.3534 - val_accuracy: 0.9174\n",
            "Epoch 3/7\n",
            "181/181 [==============================] - 31s 172ms/step - loss: 0.0390 - accuracy: 0.9896 - val_loss: 0.2659 - val_accuracy: 0.8972\n",
            "Epoch 4/7\n",
            "181/181 [==============================] - 31s 172ms/step - loss: 0.0316 - accuracy: 0.9901 - val_loss: 0.3194 - val_accuracy: 0.9174\n",
            "Epoch 5/7\n",
            "181/181 [==============================] - 31s 174ms/step - loss: 0.0238 - accuracy: 0.9917 - val_loss: 0.4019 - val_accuracy: 0.9065\n",
            "Epoch 6/7\n",
            "181/181 [==============================] - 31s 174ms/step - loss: 0.0192 - accuracy: 0.9940 - val_loss: 0.4645 - val_accuracy: 0.9081\n",
            "Epoch 7/7\n",
            "181/181 [==============================] - 31s 174ms/step - loss: 0.0201 - accuracy: 0.9957 - val_loss: 0.4453 - val_accuracy: 0.9034\n"
          ],
          "name": "stdout"
        }
      ]
    }
  ]
}